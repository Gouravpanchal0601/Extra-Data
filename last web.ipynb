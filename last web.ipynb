{
 "cells": [
  {
   "cell_type": "code",
   "execution_count": null,
   "id": "40111bb3",
   "metadata": {},
   "outputs": [],
   "source": [
    "import os\n",
    "import pandas as pd\n",
    "import requests\n",
    "from bs4 import BeautifulSoup\n",
    "\n",
    "# Read the DataFrame outside the loop\n",
    "df = pd.read_excel(\"input.xlsx\")\n",
    "\n",
    "# Create a folder to store text files\n",
    "folder_name = \"Articles_TextFile\"\n",
    "if not os.path.exists(folder_name):\n",
    "    os.makedirs(folder_name)\n",
    "\n",
    "# Loop\n",
    "for i in range(len(df[\"URL\"])):\n",
    "    try:\n",
    "        url = df[\"URL\"][i]\n",
    "        url_id = df[\"URL_ID\"][i]\n",
    "\n",
    "        response = requests.get(url)\n",
    "        response.raise_for_status()  # Raise an exception for HTTP errors\n",
    "\n",
    "        soup = BeautifulSoup(response.content, \"html.parser\")\n",
    "\n",
    "        print(f\"URL_ID of URL {i+1} is:\", df[\"URL_ID\"][i])\n",
    "\n",
    "        h1 = soup.find(\"body\").find(\"h1\")\n",
    "    #     if h1:\n",
    "    #         print(\"Title of the URL is:\", h1.text, \"\\n\")\n",
    "\n",
    "        paragraphs = soup.find(\"article\").find_all(\"p\")\n",
    "    #     print(\"Text of the URL :\")\n",
    "\n",
    "        Article_Text = \"\"\n",
    "        for paragraph in paragraphs:\n",
    "            cleaned_text = paragraph.text.strip()\n",
    "            Article_Text += cleaned_text + \"\\n\"\n",
    "    #         print(cleaned_text)\n",
    "\n",
    "        # Save the article text in file\n",
    "        file_path = os.path.join(folder_name, f\"{url_id}.txt\")\n",
    "        with open(file_path, \"w\", encoding=\"utf-8\") as file:\n",
    "            file.write(Article_Text)\n",
    "\n",
    "        print(f\"\\nArticle Text of the URL saved in file: {file_path}\\n\")\n",
    "        print(\"-----------------------------------------------------------------------------------------------------------------------------\\n\")\n",
    "\n",
    "    except Exception as e:\n",
    "        print(\"URL_ID:\", url_id, \", Error:\", e)\n",
    "        print(\"Sorry, but the page you are looking for doesn't exist.\")\n",
    "        print(f\"Error occurred while processing URL {url}\\n\")\n",
    "        print(\"-------------------------------------------------------------------------------------------------------------------------------\")"
   ]
  }
 ],
 "metadata": {
  "kernelspec": {
   "display_name": "Python 3 (ipykernel)",
   "language": "python",
   "name": "python3"
  },
  "language_info": {
   "codemirror_mode": {
    "name": "ipython",
    "version": 3
   },
   "file_extension": ".py",
   "mimetype": "text/x-python",
   "name": "python",
   "nbconvert_exporter": "python",
   "pygments_lexer": "ipython3",
   "version": "3.11.5"
  }
 },
 "nbformat": 4,
 "nbformat_minor": 5
}
