{
 "cells": [
  {
   "cell_type": "code",
   "execution_count": 1,
   "id": "8df339fd",
   "metadata": {},
   "outputs": [],
   "source": [
    "import pandas as pd\n",
    "import numpy as np\n",
    "import requests\n",
    "from bs4 import BeautifulSoup"
   ]
  },
  {
   "cell_type": "code",
   "execution_count": null,
   "id": "af6d1bef",
   "metadata": {
    "scrolled": true
   },
   "outputs": [],
   "source": [
    "# Read the DataFrame outside the loop\n",
    "df = pd.read_excel(\"input.xlsx\")\n",
    "\n",
    "for i in range(len(df[\"URL\"])):\n",
    "    try:\n",
    "        url = df[\"URL\"][i]\n",
    "        \n",
    "        response = requests.get(url)\n",
    "        response.raise_for_status()  # Raise an exception for HTTP errors\n",
    "        \n",
    "        soup = BeautifulSoup(response.content, \"html.parser\")\n",
    "        \n",
    "        print(f\"URL_ID of the URL {i+1} is :\",df[\"URL_ID\"][i],\"\\n\")\n",
    "        \n",
    "        h1 = soup.find(\"body\").find(\"h1\")\n",
    "        if h1:\n",
    "            print(\"Title of the URL is :\",h1.text)\n",
    "        \n",
    "        paragraphs = soup.find(\"article\").find_all(\"p\")\n",
    "        print(\"Text of the URL :\")\n",
    "        \n",
    "        for paragraph in paragraphs:\n",
    "            cleaned_text = paragraph.text.strip()\n",
    "            print(cleaned_text)\n",
    "        \n",
    "        print(\"                                                                                                                             \")\n",
    "        print(\"-----------------------------------------------------------------------------------------------------------------------------\")\n",
    "        print(\"-----------------------------------------------------------------------------------------------------------------------------\")\n",
    "        print(\"                                                                                                                             \")\n",
    "\n",
    "\n",
    "    except Exception as e:\n",
    "        print(\"URL_ID :\", df[\"URL_ID\"][i], \", Error 404, Page Not Found\")\n",
    "        print(e)\n",
    "        print(\"Sorry, but the page you are looking for doesn't exist.\")\n",
    "        print(f\"Error occurred while processing URL {url}\")\n",
    "        print(\"-------------------------------------------------------------------------------------------------------------------------------\")"
   ]
  },
  {
   "cell_type": "code",
   "execution_count": null,
   "id": "60216aad",
   "metadata": {},
   "outputs": [],
   "source": []
  }
 ],
 "metadata": {
  "kernelspec": {
   "display_name": "Python 3 (ipykernel)",
   "language": "python",
   "name": "python3"
  },
  "language_info": {
   "codemirror_mode": {
    "name": "ipython",
    "version": 3
   },
   "file_extension": ".py",
   "mimetype": "text/x-python",
   "name": "python",
   "nbconvert_exporter": "python",
   "pygments_lexer": "ipython3",
   "version": "3.11.5"
  }
 },
 "nbformat": 4,
 "nbformat_minor": 5
}
